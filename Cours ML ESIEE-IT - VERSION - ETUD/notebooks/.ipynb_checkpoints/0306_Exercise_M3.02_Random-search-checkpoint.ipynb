{
 "cells": [
  {
   "cell_type": "markdown",
   "id": "954aedd5",
   "metadata": {},
   "source": [
    "# 📝 Exercise M3.02\n",
    "\n",
    "The goal is to find the best set of hyperparameters which maximize the\n",
    "generalization performance on a training set.\n",
    "\n",
    "Here again with limit the size of the training set to make computation\n",
    "run faster. Feel free to increase the `train_size` value if your computer\n",
    "is powerful enough."
   ]
  },
  {
   "cell_type": "code",
   "execution_count": 52,
   "id": "50cb477b",
   "metadata": {},
   "outputs": [],
   "source": [
    "\n",
    "import numpy as np\n",
    "import pandas as pd\n",
    "\n",
    "adult_census = pd.read_csv(\"../datasets/adult-census.csv\")\n",
    "\n",
    "target_name = \"class\"\n",
    "target = adult_census[target_name]\n",
    "data = adult_census.drop(columns=[target_name, \"education-num\"])\n",
    "from sklearn.model_selection import train_test_split\n",
    "\n",
    "data_train, data_test, target_train, target_test = train_test_split(\n",
    "    data, target, train_size=0.2, random_state=42)"
   ]
  },
  {
   "cell_type": "markdown",
   "id": "e5d31b5f",
   "metadata": {
    "lines_to_next_cell": 0
   },
   "source": [
    "In this exercise, we will progressively define the classification pipeline\n",
    "and later tune its hyperparameters.\n",
    "\n",
    "Our pipeline should:\n",
    "* preprocess the categorical columns using a `OneHotEncoder` and use a\n",
    "  `StandardScaler` to normalize the numerical data.\n",
    "* use a `LogisticRegression` as a predictive model.\n",
    "\n",
    "Start by defining the columns and the preprocessing pipelines to be applied\n",
    "on each group of columns."
   ]
  },
  {
   "cell_type": "code",
   "execution_count": 53,
   "id": "e477add0",
   "metadata": {},
   "outputs": [],
   "source": [
    "from sklearn.compose import make_column_selector as selector\n",
    "\n",
    "categorical_columns_selector = selector(dtype_include=object)\n",
    "numerical_columns_selector = selector(dtype_exclude=object)\n",
    "\n",
    "numerical_columns = numerical_columns_selector(data)\n",
    "categorical_columns = categorical_columns_selector(data)"
   ]
  },
  {
   "cell_type": "code",
   "execution_count": 54,
   "id": "de6acab9",
   "metadata": {},
   "outputs": [],
   "source": [
    "from sklearn.preprocessing import OneHotEncoder\n",
    "from sklearn.preprocessing import StandardScaler\n",
    "\n",
    "categorical_preprocessor = OneHotEncoder(handle_unknown=\"ignore\")\n",
    "numerical_preprocessor = StandardScaler()"
   ]
  },
  {
   "cell_type": "code",
   "execution_count": 55,
   "id": "a6f9f3a0",
   "metadata": {},
   "outputs": [],
   "source": [
    "from sklearn.compose import ColumnTransformer\n",
    "\n",
    "preprocessor = ColumnTransformer([\n",
    "    ('one-hot-encoder', categorical_preprocessor, categorical_columns),\n",
    "    ('standard-scaler', numerical_preprocessor, numerical_columns)])"
   ]
  },
  {
   "cell_type": "markdown",
   "id": "fa7aacb6",
   "metadata": {},
   "source": [
    "Assemble the final pipeline by combining the above preprocessor\n",
    "with a logistic regression classifier. Force the maximum number of\n",
    "iterations to `10_000` to ensure that the model will converge."
   ]
  },
  {
   "cell_type": "code",
   "execution_count": 56,
   "id": "5f810071",
   "metadata": {},
   "outputs": [],
   "source": [
    "from sklearn.pipeline import make_pipeline\n",
    "from sklearn.linear_model import LogisticRegression\n",
    "\n",
    "model = make_pipeline(preprocessor,LogisticRegression(random_state=42, max_iter=10000))"
   ]
  },
  {
   "cell_type": "markdown",
   "id": "a7b9eabf",
   "metadata": {},
   "source": [
    "Use `RandomizedSearchCV` with `n_iter=20` to find the best set of\n",
    "hyperparameters by tuning the following parameters of the `model`:\n",
    "\n",
    "- the parameter `C` of the `LogisticRegression` with values ranging from\n",
    "  0.001 to 10. You can use a log-uniform distribution\n",
    "  (i.e. `scipy.stats.loguniform`);\n",
    "- the parameter `with_mean` of the `StandardScaler` with possible values\n",
    "  `True` or `False`;\n",
    "- the parameter `with_std` of the `StandardScaler` with possible values\n",
    "  `True` or `False`.\n",
    "\n",
    "Once the computation has completed, print the best combination of parameters\n",
    "stored in the `best_params_` attribute."
   ]
  },
  {
   "cell_type": "code",
   "execution_count": 57,
   "id": "ee84c0a0",
   "metadata": {},
   "outputs": [
    {
     "data": {
      "text/plain": [
       "{'memory': None,\n",
       " 'steps': [('columntransformer',\n",
       "   ColumnTransformer(transformers=[('one-hot-encoder',\n",
       "                                    OneHotEncoder(handle_unknown='ignore'),\n",
       "                                    ['workclass', 'education', 'marital-status',\n",
       "                                     'occupation', 'relationship', 'race', 'sex',\n",
       "                                     'native-country']),\n",
       "                                   ('standard-scaler', StandardScaler(),\n",
       "                                    ['age', 'capital-gain', 'capital-loss',\n",
       "                                     'hours-per-week'])])),\n",
       "  ('logisticregression', LogisticRegression(max_iter=10000, random_state=42))],\n",
       " 'verbose': False,\n",
       " 'columntransformer': ColumnTransformer(transformers=[('one-hot-encoder',\n",
       "                                  OneHotEncoder(handle_unknown='ignore'),\n",
       "                                  ['workclass', 'education', 'marital-status',\n",
       "                                   'occupation', 'relationship', 'race', 'sex',\n",
       "                                   'native-country']),\n",
       "                                 ('standard-scaler', StandardScaler(),\n",
       "                                  ['age', 'capital-gain', 'capital-loss',\n",
       "                                   'hours-per-week'])]),\n",
       " 'logisticregression': LogisticRegression(max_iter=10000, random_state=42),\n",
       " 'columntransformer__n_jobs': None,\n",
       " 'columntransformer__remainder': 'drop',\n",
       " 'columntransformer__sparse_threshold': 0.3,\n",
       " 'columntransformer__transformer_weights': None,\n",
       " 'columntransformer__transformers': [('one-hot-encoder',\n",
       "   OneHotEncoder(handle_unknown='ignore'),\n",
       "   ['workclass',\n",
       "    'education',\n",
       "    'marital-status',\n",
       "    'occupation',\n",
       "    'relationship',\n",
       "    'race',\n",
       "    'sex',\n",
       "    'native-country']),\n",
       "  ('standard-scaler',\n",
       "   StandardScaler(),\n",
       "   ['age', 'capital-gain', 'capital-loss', 'hours-per-week'])],\n",
       " 'columntransformer__verbose': False,\n",
       " 'columntransformer__verbose_feature_names_out': True,\n",
       " 'columntransformer__one-hot-encoder': OneHotEncoder(handle_unknown='ignore'),\n",
       " 'columntransformer__standard-scaler': StandardScaler(),\n",
       " 'columntransformer__one-hot-encoder__categories': 'auto',\n",
       " 'columntransformer__one-hot-encoder__drop': None,\n",
       " 'columntransformer__one-hot-encoder__dtype': numpy.float64,\n",
       " 'columntransformer__one-hot-encoder__handle_unknown': 'ignore',\n",
       " 'columntransformer__one-hot-encoder__sparse': True,\n",
       " 'columntransformer__standard-scaler__copy': True,\n",
       " 'columntransformer__standard-scaler__with_mean': True,\n",
       " 'columntransformer__standard-scaler__with_std': True,\n",
       " 'logisticregression__C': 1.0,\n",
       " 'logisticregression__class_weight': None,\n",
       " 'logisticregression__dual': False,\n",
       " 'logisticregression__fit_intercept': True,\n",
       " 'logisticregression__intercept_scaling': 1,\n",
       " 'logisticregression__l1_ratio': None,\n",
       " 'logisticregression__max_iter': 10000,\n",
       " 'logisticregression__multi_class': 'auto',\n",
       " 'logisticregression__n_jobs': None,\n",
       " 'logisticregression__penalty': 'l2',\n",
       " 'logisticregression__random_state': 42,\n",
       " 'logisticregression__solver': 'lbfgs',\n",
       " 'logisticregression__tol': 0.0001,\n",
       " 'logisticregression__verbose': 0,\n",
       " 'logisticregression__warm_start': False}"
      ]
     },
     "execution_count": 57,
     "metadata": {},
     "output_type": "execute_result"
    }
   ],
   "source": [
    "model.get_params()"
   ]
  },
  {
   "cell_type": "code",
   "execution_count": 58,
   "id": "3f92ad57",
   "metadata": {},
   "outputs": [
    {
     "data": {
      "text/plain": [
       "RandomizedSearchCV(cv=5,\n",
       "                   estimator=Pipeline(steps=[('columntransformer',\n",
       "                                              ColumnTransformer(transformers=[('one-hot-encoder',\n",
       "                                                                               OneHotEncoder(handle_unknown='ignore'),\n",
       "                                                                               ['workclass',\n",
       "                                                                                'education',\n",
       "                                                                                'marital-status',\n",
       "                                                                                'occupation',\n",
       "                                                                                'relationship',\n",
       "                                                                                'race',\n",
       "                                                                                'sex',\n",
       "                                                                                'native-country']),\n",
       "                                                                              ('standard-scaler',\n",
       "                                                                               StandardScaler(),\n",
       "                                                                               ['age',\n",
       "                                                                                'capital-gain',\n",
       "                                                                                'capital-loss',\n",
       "                                                                                'hours-per-week'])])),\n",
       "                                             ('logisticregression',\n",
       "                                              LogisticRegression(max_iter=10000,\n",
       "                                                                 random_state=42))]),\n",
       "                   n_iter=20, n_jobs=4,\n",
       "                   param_distributions={'columntransformer__standard-scaler__with_mean': [False,\n",
       "                                                                                          True],\n",
       "                                        'columntransformer__standard-scaler__with_std': [False,\n",
       "                                                                                         True],\n",
       "                                        'logisticregression__C': <scipy.stats._distn_infrastructure.rv_frozen object at 0x0000014DB1A31F70>})"
      ]
     },
     "execution_count": 58,
     "metadata": {},
     "output_type": "execute_result"
    }
   ],
   "source": [
    "from sklearn.model_selection import RandomizedSearchCV\n",
    "from scipy.stats import loguniform\n",
    "\n",
    "param_distributions = {\n",
    "    'logisticregression__C': loguniform(0.001, 10),\n",
    "    'columntransformer__standard-scaler__with_mean': [False, True],\n",
    "    'columntransformer__standard-scaler__with_std': [False, True]\n",
    "}\n",
    "\n",
    "model_random_search = RandomizedSearchCV(\n",
    "    model, param_distributions=param_distributions, n_iter=20,\n",
    "    n_jobs=4, cv=5)\n",
    "model_random_search.fit(data_train, target_train)"
   ]
  },
  {
   "cell_type": "code",
   "execution_count": null,
   "id": "3e368a71",
   "metadata": {},
   "outputs": [],
   "source": []
  }
 ],
 "metadata": {
  "jupytext": {
   "main_language": "python"
  },
  "kernelspec": {
   "display_name": "Python 3 (ipykernel)",
   "language": "python",
   "name": "python3"
  },
  "language_info": {
   "codemirror_mode": {
    "name": "ipython",
    "version": 3
   },
   "file_extension": ".py",
   "mimetype": "text/x-python",
   "name": "python",
   "nbconvert_exporter": "python",
   "pygments_lexer": "ipython3",
   "version": "3.8.12"
  }
 },
 "nbformat": 4,
 "nbformat_minor": 5
}
